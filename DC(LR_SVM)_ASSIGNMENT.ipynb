{
  "nbformat": 4,
  "nbformat_minor": 0,
  "metadata": {
    "colab": {
      "name": "DC(LR_SVM)_ASSIGNMENT.ipynb",
      "provenance": [],
      "authorship_tag": "ABX9TyMtULtakFSaNinCLVImipbT",
      "include_colab_link": true
    },
    "kernelspec": {
      "name": "python3",
      "display_name": "Python 3"
    },
    "language_info": {
      "name": "python"
    },
    "accelerator": "GPU"
  },
  "cells": [
    {
      "cell_type": "markdown",
      "metadata": {
        "id": "view-in-github",
        "colab_type": "text"
      },
      "source": [
        "<a href=\"https://colab.research.google.com/github/atuls01/Projects/blob/main/DC(LR_SVM)_ASSIGNMENT.ipynb\" target=\"_parent\"><img src=\"https://colab.research.google.com/assets/colab-badge.svg\" alt=\"Open In Colab\"/></a>"
      ]
    },
    {
      "cell_type": "code",
      "metadata": {
        "id": "qWK-613Y6Ip9"
      },
      "source": [
        "import pandas as pd\n",
        "import numpy as np\n",
        "from sklearn.model_selection import train_test_split\n",
        "from sklearn.linear_model import LogisticRegression\n",
        "from sklearn import preprocessing"
      ],
      "execution_count": 2,
      "outputs": []
    },
    {
      "cell_type": "code",
      "metadata": {
        "id": "dU3woey_6PH0"
      },
      "source": [
        "dat = pd.read_csv(\"pat.csv\")"
      ],
      "execution_count": 6,
      "outputs": []
    },
    {
      "cell_type": "code",
      "metadata": {
        "id": "eEioWHGO6e-B"
      },
      "source": [
        "X = dat.drop('Class', axis=1)\n",
        "y = dat['Class'].values.tolist()"
      ],
      "execution_count": 10,
      "outputs": []
    },
    {
      "cell_type": "code",
      "metadata": {
        "id": "9TgOWTbG7CAA"
      },
      "source": [
        "Scaler = preprocessing.StandardScaler().fit(X)\n",
        "X = Scaler.transform(X)"
      ],
      "execution_count": 14,
      "outputs": []
    },
    {
      "cell_type": "code",
      "metadata": {
        "id": "5dYvB_lZ7Zch"
      },
      "source": [
        "X_train, X_test, Y_train, Y_test = train_test_split(X,y, test_size = 0.25)"
      ],
      "execution_count": 16,
      "outputs": []
    },
    {
      "cell_type": "code",
      "metadata": {
        "id": "uFB3CqDx7otS"
      },
      "source": [
        "LRclf = LogisticRegression(random_state=0, solver='lbfgs', max_iter=1000).fit(X,y)"
      ],
      "execution_count": 18,
      "outputs": []
    },
    {
      "cell_type": "code",
      "metadata": {
        "id": "fLJMer3S75rw"
      },
      "source": [
        "score = LRclf.score(X_test, Y_test)"
      ],
      "execution_count": 20,
      "outputs": []
    },
    {
      "cell_type": "code",
      "metadata": {
        "colab": {
          "base_uri": "https://localhost:8080/"
        },
        "id": "IYHDV9e58BAv",
        "outputId": "b878873a-58f3-4340-ce35-d77245920f37"
      },
      "source": [
        "print(score)"
      ],
      "execution_count": 22,
      "outputs": [
        {
          "output_type": "stream",
          "name": "stdout",
          "text": [
            "0.984\n"
          ]
        }
      ]
    },
    {
      "cell_type": "code",
      "metadata": {
        "id": "n8H5aOoH8E1q"
      },
      "source": [
        ""
      ],
      "execution_count": null,
      "outputs": []
    },
    {
      "cell_type": "markdown",
      "metadata": {
        "id": "vAwnQk6X8cuu"
      },
      "source": [
        "## SUPPORT VECTOR MACHINE"
      ]
    },
    {
      "cell_type": "code",
      "metadata": {
        "id": "sHFJzf5P8hwX"
      },
      "source": [
        "from sklearn import svm"
      ],
      "execution_count": 24,
      "outputs": []
    },
    {
      "cell_type": "code",
      "metadata": {
        "id": "0O3LZ7Qr8qEP"
      },
      "source": [
        "data = pd.read_csv(\"pat.csv\")"
      ],
      "execution_count": 26,
      "outputs": []
    },
    {
      "cell_type": "code",
      "metadata": {
        "id": "ukJF5DOv81Hn"
      },
      "source": [
        "X = data.drop(\"Class\", axis = 1)"
      ],
      "execution_count": 27,
      "outputs": []
    },
    {
      "cell_type": "code",
      "metadata": {
        "id": "5bwwiZF99AOg"
      },
      "source": [
        "y = data[\"Class\"].values.tolist()"
      ],
      "execution_count": 28,
      "outputs": []
    },
    {
      "cell_type": "code",
      "metadata": {
        "id": "IWprHVUa9GeI"
      },
      "source": [
        "X_train, X_test, Y_train, Y_test = train_test_split(X,y, test_size=0.30)"
      ],
      "execution_count": 30,
      "outputs": []
    },
    {
      "cell_type": "code",
      "metadata": {
        "id": "2hZrORMo9SGI"
      },
      "source": [
        "svmModel1  = svm.SVC(kernel='linear', C=1.0, gamma='scale').fit(X_train, Y_train)"
      ],
      "execution_count": 31,
      "outputs": []
    },
    {
      "cell_type": "code",
      "metadata": {
        "id": "4zNxaO0_9oZj"
      },
      "source": [
        "svmModel2 = svm.SVC(kernel='rbf', gamma='scale').fit(X_train, Y_train)"
      ],
      "execution_count": 32,
      "outputs": []
    },
    {
      "cell_type": "code",
      "metadata": {
        "id": "NuKeQuJd93EI"
      },
      "source": [
        "svmModel3 = svm.SVC(kernel='poly', degree=3, gamma='scale').fit(X_train, Y_train)"
      ],
      "execution_count": 33,
      "outputs": []
    },
    {
      "cell_type": "code",
      "metadata": {
        "colab": {
          "base_uri": "https://localhost:8080/"
        },
        "id": "zI0lgTZv-J6g",
        "outputId": "3d02e6a2-d2cf-4026-bf4f-c87b8702c256"
      },
      "source": [
        "svmModel1.score(X_test, Y_test)"
      ],
      "execution_count": 34,
      "outputs": [
        {
          "output_type": "execute_result",
          "data": {
            "text/plain": [
              "0.9333333333333333"
            ]
          },
          "metadata": {},
          "execution_count": 34
        }
      ]
    },
    {
      "cell_type": "code",
      "metadata": {
        "colab": {
          "base_uri": "https://localhost:8080/"
        },
        "id": "XXpWBT43-TN_",
        "outputId": "b1536813-6803-4027-907a-c4356e0a8d59"
      },
      "source": [
        "svmModel2.score(X_test, Y_test)"
      ],
      "execution_count": 35,
      "outputs": [
        {
          "output_type": "execute_result",
          "data": {
            "text/plain": [
              "0.9466666666666667"
            ]
          },
          "metadata": {},
          "execution_count": 35
        }
      ]
    },
    {
      "cell_type": "code",
      "metadata": {
        "colab": {
          "base_uri": "https://localhost:8080/"
        },
        "id": "mk-UWrrx-XyI",
        "outputId": "4f7b4fec-2c4d-4578-87cd-27a0897c6fe2"
      },
      "source": [
        "svmModel3.score(X_test, Y_test)"
      ],
      "execution_count": 36,
      "outputs": [
        {
          "output_type": "execute_result",
          "data": {
            "text/plain": [
              "0.9333333333333333"
            ]
          },
          "metadata": {},
          "execution_count": 36
        }
      ]
    },
    {
      "cell_type": "code",
      "metadata": {
        "id": "BXI_faTf-c6N"
      },
      "source": [
        ""
      ],
      "execution_count": null,
      "outputs": []
    }
  ]
}